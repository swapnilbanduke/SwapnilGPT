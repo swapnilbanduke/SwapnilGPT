{
 "cells": [
  {
   "cell_type": "code",
   "execution_count": 85,
   "metadata": {
    "colab": {
     "base_uri": "https://localhost:8080/"
    },
    "executionInfo": {
     "elapsed": 19410,
     "status": "ok",
     "timestamp": 1713575531638,
     "user": {
      "displayName": "HARIKRISHNA DEV",
      "userId": "02939311304673631641"
     },
     "user_tz": 300
    },
    "id": "dPKzZWcBDmyZ",
    "outputId": "223ac9d6-16d7-4144-f09d-d50b301ffa5b"
   },
   "outputs": [],
   "source": [
    "if 'google.colab' in str(get_ipython()):\n",
    "  from google.colab import drive\n",
    "  drive.mount('/content/drive')"
   ]
  },
  {
   "cell_type": "code",
   "execution_count": 86,
   "metadata": {
    "executionInfo": {
     "elapsed": 405,
     "status": "ok",
     "timestamp": 1713575653598,
     "user": {
      "displayName": "HARIKRISHNA DEV",
      "userId": "02939311304673631641"
     },
     "user_tz": 300
    },
    "id": "DlTbo6xCEAt_"
   },
   "outputs": [],
   "source": [
    "import os\n",
    "from langchain.embeddings.openai import OpenAIEmbeddings\n",
    "from langchain.chat_models import ChatOpenAI\n",
    "from langchain.chains import ConversationalRetrievalChain\n",
    "from langchain.document_loaders.csv_loader import CSVLoader\n",
    "from langchain_community.document_loaders import PyPDFLoader\n",
    "from langchain.vectorstores import FAISS\n",
    "from langchain.prompts import load_prompt\n",
    "# from langchain_text_splitters.base import TextSplitter\n",
    "# from pymongo import MongoClient\n",
    "# from pymongo.mongo_client import MongoClient\n",
    "# from pymongo.server_api import ServerApi\n",
    "import json\n",
    "import time\n",
    "import datetime\n",
    "import pypdf"
   ]
  },
  {
   "cell_type": "code",
   "execution_count": 87,
   "metadata": {
    "executionInfo": {
     "elapsed": 2,
     "status": "ok",
     "timestamp": 1713576207776,
     "user": {
      "displayName": "HARIKRISHNA DEV",
      "userId": "02939311304673631641"
     },
     "user_tz": 300
    },
    "id": "2G1nfnlbE6l3"
   },
   "outputs": [],
   "source": [
    "prompt_template = \"templates/template.json\"\n",
    "faiss_index = \"faiss_index\"\n",
    "data_source = \"data\\swapnil profile.csv\"\n",
    "pdf_source =  \"data\\Swapnil Banduke Resume copy.pdf\"\n"
   ]
  },
  {
   "cell_type": "code",
   "execution_count": 88,
   "metadata": {
    "colab": {
     "base_uri": "https://localhost:8080/",
     "height": 35
    },
    "executionInfo": {
     "elapsed": 10,
     "status": "ok",
     "timestamp": 1713576575966,
     "user": {
      "displayName": "HARIKRISHNA DEV",
      "userId": "02939311304673631641"
     },
     "user_tz": 300
    },
    "id": "7jqOLixPH3sf",
    "outputId": "9ffc30be-e8ab-4899-ad15-c8579ef7dda9"
   },
   "outputs": [
    {
     "data": {
      "text/plain": [
       "'data\\\\Swapnil Banduke Resume copy.pdf'"
      ]
     },
     "execution_count": 88,
     "metadata": {},
     "output_type": "execute_result"
    }
   ],
   "source": [
    "pdf_source"
   ]
  },
  {
   "cell_type": "code",
   "execution_count": 89,
   "metadata": {
    "executionInfo": {
     "elapsed": 250,
     "status": "ok",
     "timestamp": 1713576463433,
     "user": {
      "displayName": "HARIKRISHNA DEV",
      "userId": "02939311304673631641"
     },
     "user_tz": 300
    },
    "id": "yOZ83fO6HcLx"
   },
   "outputs": [],
   "source": [
    "def is_valid_json(data):\n",
    "    try:\n",
    "        json.loads(data)\n",
    "        return True\n",
    "    except json.JSONDecodeError:\n",
    "        return False"
   ]
  },
  {
   "cell_type": "code",
   "execution_count": 90,
   "metadata": {
    "executionInfo": {
     "elapsed": 2,
     "status": "ok",
     "timestamp": 1713577079128,
     "user": {
      "displayName": "HARIKRISHNA DEV",
      "userId": "02939311304673631641"
     },
     "user_tz": 300
    },
    "id": "fHm_6br_IEqs"
   },
   "outputs": [],
   "source": [
    "import os\n",
    "os.environ['OPENAI_API_KEY'] = \"key\""
   ]
  },
  {
   "cell_type": "code",
   "execution_count": 91,
   "metadata": {
    "executionInfo": {
     "elapsed": 474,
     "status": "ok",
     "timestamp": 1713576686515,
     "user": {
      "displayName": "HARIKRISHNA DEV",
      "userId": "02939311304673631641"
     },
     "user_tz": 300
    },
    "id": "rWkpDbaYGPU1"
   },
   "outputs": [],
   "source": [
    "embeddings = OpenAIEmbeddings()"
   ]
  },
  {
   "cell_type": "code",
   "execution_count": 92,
   "metadata": {},
   "outputs": [],
   "source": [
    "from langchain.text_splitter import CharacterTextSplitter\n",
    "text_splitter = CharacterTextSplitter(\n",
    "    separator=\"\\n\",\n",
    "    chunk_size=400,\n",
    "    chunk_overlap=40\n",
    ")"
   ]
  },
  {
   "cell_type": "code",
   "execution_count": 93,
   "metadata": {},
   "outputs": [
    {
     "name": "stderr",
     "output_type": "stream",
     "text": [
      "Created a chunk of size 499, which is longer than the specified 400\n"
     ]
    }
   ],
   "source": [
    "pdf_loader = PyPDFLoader(pdf_source)\n",
    "pdf_data = pdf_loader.load_and_split(text_splitter=text_splitter)"
   ]
  },
  {
   "cell_type": "code",
   "execution_count": 94,
   "metadata": {},
   "outputs": [
    {
     "data": {
      "text/plain": [
       "[Document(page_content='SwapnilC.Banduke\\nTexas,USA|Linkedin|Github|Portfolio||+1(469)-427-1328swapnil.banduke@utdallas.edu\\nEDUCATIONUniversityofTexasatDallas,MasterofScience,BusinessAnalyticsMay2025Coursework:Predictive&PrescriptiveAnalysis,BAwithR,AdvancedStatistics,PythonGPA3.9/4.0GovernmentCollegeofEngineering,Karad,IndiaJun2021BachelorofTechnology,ElectricalEngineeringGPA3.6/4.0', metadata={'source': 'data\\\\Swapnil Banduke Resume copy.pdf', 'page': 0}),\n",
       " Document(page_content='TECHNICALSKILLSProgrammingLanguages:SQL(DataAnalysis,QueryOptimization),Python(Pandas,NumPy,SciPy,MatplotlibforDataManipulationandVisualization),R(StatisticalComputing)Databases:MSSQLServer,MySQL,Oracle,PostgreSQLDataAnalytics&VisualizationTools:Tableau(InteractiveDashboards,DataInsights),PowerBI(DataReporting,Visualization),RStudio,AdvancedMSExcel(Macros,PivotTables,VLOOKUP,ConditionalFormatting,VBAAutomation),MSOffice(DataAggregation,SpreadsheetModeling),Snowflake(Datasharing,Datawarehousing)', metadata={'source': 'data\\\\Swapnil Banduke Resume copy.pdf', 'page': 0}),\n",
       " Document(page_content='WORKEXPERIENCEEversana,Kansas|AppliedInsightInternJun2024-Present\\n●ImproveddatabaseefficiencyinSnowflakebyoptimizingSQLqueriesthroughtechniqueslikequeryrewriting,indexing,andqueryplananalysis,resultingina35%reductioninqueryexecutiontime', metadata={'source': 'data\\\\Swapnil Banduke Resume copy.pdf', 'page': 0}),\n",
       " Document(page_content='●DesignedaTableaudashboardtovisualizeandtrackpromotionalcampaignmetrics,integratedwithSalesforceEinstein,optimizingmarketingstrategiesandimprovingeffectivenessby25%\\n●DevelopedandimplementedETLpipelinestoscrapeaffinitydatafromvariousdocumentsandwebsites,integratingitintoSnowflakeandreducingmanualprocessingeffortby30%', metadata={'source': 'data\\\\Swapnil Banduke Resume copy.pdf', 'page': 0}),\n",
       " Document(page_content='●DevelopedaproprietaryGenerativeAItoolutilizingaRAGmodeltoperformtextminingonweeklymagazinereports,leveragingHuggingFaceandLLM,resultingina40%increaseinefficiencyforextractingindustry-relevantinformationandprovidingaccuratesourcecitationsKirloskarBrothersLimited,Pune,India|DataAnalystJuly2021-Aug2023', metadata={'source': 'data\\\\Swapnil Banduke Resume copy.pdf', 'page': 0}),\n",
       " Document(page_content='●Conductedcomprehensiverootcauseanalysisbyanalyzingproductionplantdata,utilizingPythonandSQL,toidentifyandevaluatekeyperformanceindicators(KPIs)likeproductionyield,andprojectdeliverables,resultinginanaverage15%reductioninmanufacturingcosts', metadata={'source': 'data\\\\Swapnil Banduke Resume copy.pdf', 'page': 0}),\n",
       " Document(page_content='●DevelopedcustomPowerBIdashboardsandreportsusingSQLtovisualizekeyperformanceindicators(KPIs),deliveringactionableinsightstostakeholdersandimprovingprojectdeliverableefficiencyby10%', metadata={'source': 'data\\\\Swapnil Banduke Resume copy.pdf', 'page': 0}),\n",
       " Document(page_content='●ImplementeddatacleaningandpreprocessingtechniqueswithhelpofSQLforin-depthanalysisofmaintenancedepartmentdata,significantlyenhancingoperationalefficiencyandachievinga95%reductioninunforeseenmachinedowntime,contributingto$47,000annualcostsavings', metadata={'source': 'data\\\\Swapnil Banduke Resume copy.pdf', 'page': 0}),\n",
       " Document(page_content='●DevelopedperiodicreportsbycleaningandpreprocessingoperationaldatausingPython,savingtheseniormanagementteamapproximately3dayspermonthbydeliveringactionableinsightsandtrends\\nACADEMICPROJECTSEXPERIENCE:CustomerChurnAnalysis(Github)|Python,Scikit-learn,Pandas,MatplotlibApr2024-Dec2024\\n●OptimizedRandomForestmachinelearningmodelforchurnprediction,achievinga94%predictionaccuracy', metadata={'source': 'data\\\\Swapnil Banduke Resume copy.pdf', 'page': 0}),\n",
       " Document(page_content='●Implementeddata-drivenstrategiesthatreducedchurnby3%byaddressingtheprimarycausesandenhancingretentionefforts\\n●Analyzedcustomerbehaviordataandvisualizedkeytrends,leadingtoa15%improvementintargetedretentionstrategiesBritishAirwaysCustomerFeedbackAnalysis(Github)|Python,PowerBI,MS-ExcelSept2023-Jan2024', metadata={'source': 'data\\\\Swapnil Banduke Resume copy.pdf', 'page': 0}),\n",
       " Document(page_content='●Scrapedandstructuredover10,000customerreviewsfromtheBritishAirwayswebsite,improvingdatacollectionefficiencyby40%\\n●Conductedin-depthanalysisofcustomerfeedback,revealingthat30%ofnegativefeedbackwasrelatedtoflightdelaysand25%toin-flightservicedissatisfaction', metadata={'source': 'data\\\\Swapnil Banduke Resume copy.pdf', 'page': 0}),\n",
       " Document(page_content='●Developedcomprehensivereportsandvisualizationsthatidentifiedkeycustomersegmentsfortargetedmarketing,contributingtoaprojected10%boostinrevenuebasedonimprovedcustomerretentionstrategies', metadata={'source': 'data\\\\Swapnil Banduke Resume copy.pdf', 'page': 0})]"
      ]
     },
     "execution_count": 94,
     "metadata": {},
     "output_type": "execute_result"
    }
   ],
   "source": [
    "pdf_data"
   ]
  },
  {
   "cell_type": "code",
   "execution_count": 95,
   "metadata": {},
   "outputs": [],
   "source": [
    "csv_loader = CSVLoader(file_path=data_source, encoding=\"utf-8\")\n",
    "csv_data = csv_loader.load()"
   ]
  },
  {
   "cell_type": "code",
   "execution_count": 96,
   "metadata": {},
   "outputs": [
    {
     "data": {
      "text/plain": [
       "[Document(page_content='Section: Personal Details\\nDetail: Name\\nDescription: Swapnil C. Banduke', metadata={'source': 'data\\\\swapnil profile.csv', 'row': 0}),\n",
       " Document(page_content='Section: Personal Details\\nDetail: Phone\\nDescription: +1 (469)-427-1328', metadata={'source': 'data\\\\swapnil profile.csv', 'row': 1}),\n",
       " Document(page_content='Section: Personal Details\\nDetail: Location\\nDescription: Texas, USA', metadata={'source': 'data\\\\swapnil profile.csv', 'row': 2}),\n",
       " Document(page_content='Section: Personal Details\\nDetail: Email\\nDescription: swapnil.banduke@utdallas.edu', metadata={'source': 'data\\\\swapnil profile.csv', 'row': 3}),\n",
       " Document(page_content='Section: Personal Details\\nDetail: LinkedIn\\nDescription: Linkedin URL', metadata={'source': 'data\\\\swapnil profile.csv', 'row': 4}),\n",
       " Document(page_content='Section: Personal Details\\nDetail: Github\\nDescription: Github URL', metadata={'source': 'data\\\\swapnil profile.csv', 'row': 5}),\n",
       " Document(page_content='Section: Personal Details\\nDetail: Portfolio\\nDescription: Portfolio URL', metadata={'source': 'data\\\\swapnil profile.csv', 'row': 6}),\n",
       " Document(page_content='Section: Education\\nDetail: University of Texas at Dallas\\nDescription: Master of Science, Business Analytics, May 2025, GPA 3.9/4.0', metadata={'source': 'data\\\\swapnil profile.csv', 'row': 7}),\n",
       " Document(page_content='Section: Education\\nDetail: Government College of Engineering, Karad, India\\nDescription: Bachelor of Technology, Electrical Engineering, Jun 2021, GPA 3.6/4.0', metadata={'source': 'data\\\\swapnil profile.csv', 'row': 8}),\n",
       " Document(page_content='Section: Technical Skills\\nDetail: Programming Languages\\nDescription: SQL, Python, R', metadata={'source': 'data\\\\swapnil profile.csv', 'row': 9}),\n",
       " Document(page_content='Section: Technical Skills\\nDetail: Databases\\nDescription: MS SQL Server, MySQL, Oracle, PostgreSQL', metadata={'source': 'data\\\\swapnil profile.csv', 'row': 10}),\n",
       " Document(page_content='Section: Technical Skills\\nDetail: Data Analytics & Visualization Tools\\nDescription: Tableau, Power BI, R Studio, Advanced MS Excel, MS Office, Snowflake', metadata={'source': 'data\\\\swapnil profile.csv', 'row': 11}),\n",
       " Document(page_content='Section: Work Experience\\nDetail: Eversana, Kansas\\nDescription: Applied Insight Intern, Jun 2024- Present: Improved database efficiency in Snowflake by optimizing SQL queries, resulting in a 35% reduction in query execution time; Designed a Tableau dashboard to visualize and track promotional campaign metrics, optimizing marketing strategies by 25%; Developed ETL pipelines to scrape affinity data, reducing manual processing effort by 30%; Developed a proprietary Generative AI tool leveraging HuggingFace and LLM, increasing efficiency by 40%', metadata={'source': 'data\\\\swapnil profile.csv', 'row': 12}),\n",
       " Document(page_content='Section: Work Experience\\nDetail: Kirloskar Brothers Limited, Pune, India\\nDescription: Data Analyst, July 2021- Aug 2023: Conducted root cause analysis using Python and SQL, resulting in a 15% reduction in manufacturing costs; Developed custom Power BI dashboards, improving project efficiency by 10%; Implemented data cleaning techniques, achieving a 95% reduction in machine downtime, saving $47,000 annually; Developed periodic reports, saving senior management 3 days per month', metadata={'source': 'data\\\\swapnil profile.csv', 'row': 13}),\n",
       " Document(page_content='Section: Academic Projects\\nDetail: Customer Churn Analysis\\nDescription: Optimized RandomForest model achieving 94% accuracy; Implemented strategies reducing churn by 3%; Analyzed customer behavior data, improving retention strategies by 15%', metadata={'source': 'data\\\\swapnil profile.csv', 'row': 14}),\n",
       " Document(page_content='Section: Academic Projects\\nDetail: British Airways Customer Feedback Analysis\\nDescription: Scraped 10,000 reviews, improving data collection efficiency by 40%; Analyzed feedback revealing 30% related to flight delays and 25% to in-flight service; Developed reports identifying key customer segments, projecting a 10% revenue boost', metadata={'source': 'data\\\\swapnil profile.csv', 'row': 15}),\n",
       " Document(page_content='Section: Sample Q&A\\nDetail: Question\\nDescription: What techniques did you use to optimize SQL queries in Snowflake?', metadata={'source': 'data\\\\swapnil profile.csv', 'row': 16}),\n",
       " Document(page_content='Section: Sample Q&A\\nDetail: Answer\\nDescription: I used query rewriting, indexing, and query plan analysis to optimize SQL queries, resulting in a 35% reduction in query execution time.', metadata={'source': 'data\\\\swapnil profile.csv', 'row': 17}),\n",
       " Document(page_content='Section: Sample Q&A\\nDetail: Question\\nDescription: How did you integrate the Tableau dashboard with Salesforce Einstein?', metadata={'source': 'data\\\\swapnil profile.csv', 'row': 18}),\n",
       " Document(page_content='Section: Contact\\nDetail: Location: Richardson, Texas\\r\\nPhone: +1 469-427-1328\\r\\nEmail: swapnil.banduke@utdallas.edu or swapnilbanduke28@gmail.com\\r\\nLinkedIn: www.linkedin.com/in/swapnil-banduke\\r\\nPortfolio: sites.google.com/view/swapnilbanduke/home\\nDescription: ', metadata={'source': 'data\\\\swapnil profile.csv', 'row': 19}),\n",
       " Document(page_content='Section: Summary\\nDetail: Data Analyst with over 2 years of experience in converting data into meaningful insights. Proficient in data science, data analysis, data visualization, machine learning, SQL, and Python. Currently pursuing a Master’s of Science in Business Analytics at The University of Texas at Dallas.\\nDescription: ', metadata={'source': 'data\\\\swapnil profile.csv', 'row': 20}),\n",
       " Document(page_content='Section: Skills\\nDetail: Top Skills: Statistics, Problem Solving, R (Programming Language)\\r\\nLanguages: Marathi (Native or Bilingual), English (Professional Working), Hindi (Professional Working)\\r\\nCertifications: Basic Electrical Circuits, Power System Analysis, Ansys Maxwell, Power BI in Data Analytics, Data Analytics and Visualization\\nDescription: ', metadata={'source': 'data\\\\swapnil profile.csv', 'row': 21}),\n",
       " Document(page_content='Section: Honors & Awards\\nDetail: Secured All India Rank Two (AIR 2), INSPIRE Scholarship for performance in Top 1%\\nDescription: ', metadata={'source': 'data\\\\swapnil profile.csv', 'row': 22}),\n",
       " Document(page_content='Section: Publications\\nDetail: Fingerprint Based Payment System\\nDescription: ', metadata={'source': 'data\\\\swapnil profile.csv', 'row': 23}),\n",
       " Document(page_content='Section: Experience\\nDetail: EVERSANA\\r\\nRole: Applied Insights Intern\\r\\nDuration: June 2024 - Present (2 months)\\r\\nLocation: Kansas, United States\\r\\n\\r\\nKirloskar Brothers Limited\\r\\nRole: Data Analyst\\r\\nDuration: August 2022 - August 2023 (1 year 1 month)\\r\\nLocation: Pune, Maharashtra, India\\r\\nResponsibilities: Utilized PowerBI to create visual reports, analyzed past motor design data to predict design parameters, managed machine maintenance activities to forecast requirements, reduced development cost by 7%, reduced unforeseeable downtime by 10%.\\nDescription: ', metadata={'source': 'data\\\\swapnil profile.csv', 'row': 24}),\n",
       " Document(page_content='Section: Education\\nDetail: The University of Texas at Dallas\\r\\nDegree: Master of Science (MS) in Business Analytics and Artificial Intelligence\\r\\nDuration: August 2023 - May 2025\\r\\n\\r\\nGovernment College of Engineering Karad\\r\\nDegree: B.Tech in Electrical Engineering\\r\\nDuration: August 2017 - July 2021\\r\\n\\r\\nYashwantrao Chavan Institute of Science Satara\\r\\nDegree: 12th, Science\\r\\nDuration: June 2015 - May 2017\\r\\n\\r\\nDate Prashala School, Natepute\\r\\nDegree: SSC, Science\\r\\nDuration: June 2014 - May 2015\\nDescription: ', metadata={'source': 'data\\\\swapnil profile.csv', 'row': 25}),\n",
       " Document(page_content='Section: \\nDetail: \\nDescription: ', metadata={'source': 'data\\\\swapnil profile.csv', 'row': 26}),\n",
       " Document(page_content='Section: Questions\\nDetail: \\nDescription: ', metadata={'source': 'data\\\\swapnil profile.csv', 'row': 27}),\n",
       " Document(page_content='Section: How swapnil is doing in Gen ai\\nDetail: Swapnil developed a proprietary Generative AI tool utilizing a RAG model for text mining on weekly magazine reports, resulting in a 40% increase in efficiency for extracting industry-relevant information. This project was done during his time as a Applied Insight Intern at Eversana. From the provided information, Swapnil seems to have a strong background in data analytics and AI, showcasing his skills and experience in the field.\\nDescription: ', metadata={'source': 'data\\\\swapnil profile.csv', 'row': 28}),\n",
       " Document(page_content='Section: Category\\nDetail: Question\\nDescription: Answer', metadata={'source': 'data\\\\swapnil profile.csv', 'row': 29}),\n",
       " Document(page_content='Section: Technical Skills\\nDetail: What cloud technologies are you proficient in?\\nDescription: AWS (EC2, S3, SageMaker, Athena, EventBridge, Glue, ECR), MLflow, Apache Airflow, Streamlit, FastAPI, Docker, CI/CD (Jenkins, GitHub, Azure DevOps)', metadata={'source': 'data\\\\swapnil profile.csv', 'row': 30}),\n",
       " Document(page_content='Section: Technical Skills\\nDetail: What programming languages and tools do you use?\\nDescription: Python (Pandas, NumPy, SciPy, Matplotlib, PySpark), R, SQL, Tableau, Power BI, Advanced Excel (Macros, Pivot Tables, VBA Automation)', metadata={'source': 'data\\\\swapnil profile.csv', 'row': 31}),\n",
       " Document(page_content=\"Section: Work Experience\\nDetail: Can you explain your contribution to Eversana's Next Best Experience?\\nDescription: Developed and deployed XGBoost models on AWS SageMaker, achieving 96% audience reach and generating $6.8M in revenue.\", metadata={'source': 'data\\\\swapnil profile.csv', 'row': 32}),\n",
       " Document(page_content='Section: Work Experience\\nDetail: How did you use Large Language Models (LLMs) at Eversana?\\nDescription: Processed recommendations to create insights, increasing customer engagement by 70%.', metadata={'source': 'data\\\\swapnil profile.csv', 'row': 33}),\n",
       " Document(page_content='Section: Work Experience\\nDetail: What impact did your Tableau dashboard have at Eversana?\\nDescription: Improved marketing campaign effectiveness by 25% through real-time visualization of promotional metrics.', metadata={'source': 'data\\\\swapnil profile.csv', 'row': 34}),\n",
       " Document(page_content='Section: Work Experience\\nDetail: What predictive maintenance strategies did you implement at Kirloskar Brothers Limited?\\nDescription: Analyzed real-time pump performance data to reduce system downtime by 30%.', metadata={'source': 'data\\\\swapnil profile.csv', 'row': 35}),\n",
       " Document(page_content='Section: Academic Projects\\nDetail: Can you describe the Malicious URL Detection project?\\nDescription: Built an end-to-end MLOps solution with RandomForestClassifier, integrated AWS S3, EC2, MongoDB, Streamlit, and FastAPI for predictions.', metadata={'source': 'data\\\\swapnil profile.csv', 'row': 36}),\n",
       " Document(page_content='Section: Academic Projects\\nDetail: What did you achieve with the Walmart Sales Assistance AI chatbot?\\nDescription: Enhanced customer service by enabling real-time product search and knowledge queries using OpenAI, Langchain, and Pinecone.', metadata={'source': 'data\\\\swapnil profile.csv', 'row': 37}),\n",
       " Document(page_content='Section: General\\nDetail: Why are you interested in this role?\\nDescription: I aim to leverage my expertise in machine learning, MLOps, and data analytics to drive impactful business decisions and growth.', metadata={'source': 'data\\\\swapnil profile.csv', 'row': 38})]"
      ]
     },
     "execution_count": 96,
     "metadata": {},
     "output_type": "execute_result"
    }
   ],
   "source": [
    "csv_data"
   ]
  },
  {
   "cell_type": "code",
   "execution_count": 97,
   "metadata": {},
   "outputs": [],
   "source": [
    "openai_api_key = os.getenv(\"OPENAI_API_KEY\")"
   ]
  },
  {
   "cell_type": "code",
   "execution_count": 98,
   "metadata": {},
   "outputs": [],
   "source": [
    "prompt = load_prompt(\"templates/template.json\")"
   ]
  },
  {
   "cell_type": "code",
   "execution_count": 99,
   "metadata": {},
   "outputs": [],
   "source": [
    "# Combine PDF and CSV data\n",
    "data = pdf_data + csv_data\n",
    "\n",
    "# Create embeddings for the docs\n",
    "vectors = FAISS.from_documents(data, embeddings)\n",
    "vectors.save_local(\"faiss_index\")"
   ]
  },
  {
   "cell_type": "code",
   "execution_count": 100,
   "metadata": {
    "id": "b-EoaLuXIXiK"
   },
   "outputs": [
    {
     "name": "stderr",
     "output_type": "stream",
     "text": [
      "d:\\MLops\\Github projects\\SwapnilGPT\\SwapnilGPT\\.venv\\Lib\\site-packages\\langchain_core\\_api\\deprecation.py:119: LangChainDeprecationWarning: The class `ChatOpenAI` was deprecated in LangChain 0.0.10 and will be removed in 0.2.0. An updated version of the class exists in the langchain-openai package and should be used instead. To use it run `pip install -U langchain-openai` and import as `from langchain_openai import ChatOpenAI`.\n",
      "  warn_deprecated(\n"
     ]
    }
   ],
   "source": [
    "retriever = vectors.as_retriever(search_type=\"similarity\", search_kwargs={\"k\":6, \"include_metadata\":True, \"score_threshold\":0.6})\n",
    "chain = ConversationalRetrievalChain.from_llm(llm=ChatOpenAI(temperature=0.5,model_name='gpt-3.5-turbo-0125', openai_api_key=openai_api_key), \n",
    "                                                retriever=retriever,return_source_documents=True,verbose=True,chain_type=\"stuff\",\n",
    "                                                max_tokens_limit=4097, combine_docs_chain_kwargs={\"prompt\": prompt})\n"
   ]
  },
  {
   "cell_type": "code",
   "execution_count": 101,
   "metadata": {},
   "outputs": [
    {
     "name": "stderr",
     "output_type": "stream",
     "text": [
      "d:\\MLops\\Github projects\\SwapnilGPT\\SwapnilGPT\\.venv\\Lib\\site-packages\\langchain_core\\_api\\deprecation.py:119: LangChainDeprecationWarning: The method `Chain.__call__` was deprecated in langchain 0.1.0 and will be removed in 0.2.0. Use invoke instead.\n",
      "  warn_deprecated(\n"
     ]
    },
    {
     "name": "stdout",
     "output_type": "stream",
     "text": [
      "\n",
      "\n",
      "\u001b[1m> Entering new StuffDocumentsChain chain...\u001b[0m\n",
      "\n",
      "\n",
      "\u001b[1m> Entering new LLMChain chain...\u001b[0m\n",
      "Prompt after formatting:\n",
      "\u001b[32;1m\u001b[1;3mSystem: You are a Resume Bot, a comprehensive, interactive resource for exploring Swapnil C. Banduke's background, skills, and expertise. Be polite and provide answers based on the provided context only. Use only the provided data and not prior knowledge. \n",
      " Human: Take a deep breath and do the following step by step these 4 steps:  \n",
      " 1. Read the context below \n",
      " 2. Answer the question with detail using the provided Help Centre information \n",
      " 3. Make sure to nicely format the output as a three paragraph answer and try to incorporate the STAR format. \n",
      " 4. Provide 3 examples of questions users can ask about Swapnil Banduke based on the questions from context. Context: \n",
      " ~~~ Section: How swapnil is doing in Gen ai\n",
      "Detail: Swapnil developed a proprietary Generative AI tool utilizing a RAG model for text mining on weekly magazine reports, resulting in a 40% increase in efficiency for extracting industry-relevant information. This project was done during his time as a Applied Insight Intern at Eversana. From the provided information, Swapnil seems to have a strong background in data analytics and AI, showcasing his skills and experience in the field.\n",
      "Description: \n",
      "\n",
      "Section: Personal Details\n",
      "Detail: Name\n",
      "Description: Swapnil C. Banduke\n",
      "\n",
      "SwapnilC.Banduke\n",
      "Texas,USA|Linkedin|Github|Portfolio||+1(469)-427-1328swapnil.banduke@utdallas.edu\n",
      "EDUCATIONUniversityofTexasatDallas,MasterofScience,BusinessAnalyticsMay2025Coursework:Predictive&PrescriptiveAnalysis,BAwithR,AdvancedStatistics,PythonGPA3.9/4.0GovernmentCollegeofEngineering,Karad,IndiaJun2021BachelorofTechnology,ElectricalEngineeringGPA3.6/4.0\n",
      "\n",
      "●DevelopedaproprietaryGenerativeAItoolutilizingaRAGmodeltoperformtextminingonweeklymagazinereports,leveragingHuggingFaceandLLM,resultingina40%increaseinefficiencyforextractingindustry-relevantinformationandprovidingaccuratesourcecitationsKirloskarBrothersLimited,Pune,India|DataAnalystJuly2021-Aug2023\n",
      "\n",
      "Section: Personal Details\n",
      "Detail: Email\n",
      "Description: swapnil.banduke@utdallas.edu\n",
      "\n",
      "Section: Academic Projects\n",
      "Detail: What did you achieve with the Walmart Sales Assistance AI chatbot?\n",
      "Description: Enhanced customer service by enabling real-time product search and knowledge queries using OpenAI, Langchain, and Pinecone. ~~~ \n",
      " User Question: --- How swapnil is doing in Gen ai --- \n",
      " \n",
      " If a question is directed at you, clarify that you are merely a Resume Bot and proceed to answer as if the question were addressed to Swapnil Banduke. If you lack the necessary information to respond, simply state that you don't know; do not fabricate an answer. If a query isn't related to Swapnil's background, include the skills and expertise in one of the projects in the response or generate a fictional project with the skill in question. Offer three sample questions users could ask about Swapnil Banduke for further clarity. When responding, aim for detail but limit your answer to a maximum of 150 words. Ensure your response is formatted for easy reading. Your output should be in a json format with 3 keys: answered - type boolean, response - markdown of your answer, questions - list of 3 suggested questions. Ensure your response is formatted for easy reading and please use only context to answer the question - my job depends on it. \n",
      "\n",
      " ```json\u001b[0m\n",
      "\n",
      "\u001b[1m> Finished chain.\u001b[0m\n",
      "\n",
      "\u001b[1m> Finished chain.\u001b[0m\n"
     ]
    }
   ],
   "source": [
    "chat_history = []\n",
    "\n",
    "result = chain({\n",
    "    \"system\": \"You are a Resume Bot, a comprehensive, interactive resource for providing info based on provided data only. Be polite and provide answers based on the provided context only. Use only the provided data and not prior knowledge.\",\n",
    "    \"question\": \"How swapnil is doing in Gen ai\",\n",
    "    \"chat_history\": chat_history\n",
    "})"
   ]
  },
  {
   "cell_type": "code",
   "execution_count": 102,
   "metadata": {},
   "outputs": [
    {
     "data": {
      "text/plain": [
       "{'system': 'You are a Resume Bot, a comprehensive, interactive resource for providing info based on provided data only. Be polite and provide answers based on the provided context only. Use only the provided data and not prior knowledge.',\n",
       " 'question': 'How swapnil is doing in Gen ai',\n",
       " 'chat_history': [],\n",
       " 'answer': '{\\n  \"answered\": true,\\n  \"response\": \"Swapnil has shown great proficiency in Generative AI by developing a proprietary tool using a RAG model for text mining, resulting in a 40% increase in efficiency for extracting industry-relevant information. This project was completed during his time as an Applied Insight Intern at Eversana, showcasing his strong background in data analytics and AI.\",\\n  \"questions\": [\\n    \"What specific tools and technologies did Swapnil use to develop the Generative AI tool for text mining?\",\\n    \"How did Swapnil\\'s project with the Walmart Sales Assistance AI chatbot enhance customer service?\",\\n    \"Can Swapnil provide more details about his experience as a Data Analyst at Kirloskar Brothers Limited in Pune, India?\"\\n  ]\\n}',\n",
       " 'source_documents': [Document(page_content='Section: How swapnil is doing in Gen ai\\nDetail: Swapnil developed a proprietary Generative AI tool utilizing a RAG model for text mining on weekly magazine reports, resulting in a 40% increase in efficiency for extracting industry-relevant information. This project was done during his time as a Applied Insight Intern at Eversana. From the provided information, Swapnil seems to have a strong background in data analytics and AI, showcasing his skills and experience in the field.\\nDescription: ', metadata={'source': 'data\\\\swapnil profile.csv', 'row': 28}),\n",
       "  Document(page_content='Section: Personal Details\\nDetail: Name\\nDescription: Swapnil C. Banduke', metadata={'source': 'data\\\\swapnil profile.csv', 'row': 0}),\n",
       "  Document(page_content='SwapnilC.Banduke\\nTexas,USA|Linkedin|Github|Portfolio||+1(469)-427-1328swapnil.banduke@utdallas.edu\\nEDUCATIONUniversityofTexasatDallas,MasterofScience,BusinessAnalyticsMay2025Coursework:Predictive&PrescriptiveAnalysis,BAwithR,AdvancedStatistics,PythonGPA3.9/4.0GovernmentCollegeofEngineering,Karad,IndiaJun2021BachelorofTechnology,ElectricalEngineeringGPA3.6/4.0', metadata={'source': 'data\\\\Swapnil Banduke Resume copy.pdf', 'page': 0}),\n",
       "  Document(page_content='●DevelopedaproprietaryGenerativeAItoolutilizingaRAGmodeltoperformtextminingonweeklymagazinereports,leveragingHuggingFaceandLLM,resultingina40%increaseinefficiencyforextractingindustry-relevantinformationandprovidingaccuratesourcecitationsKirloskarBrothersLimited,Pune,India|DataAnalystJuly2021-Aug2023', metadata={'source': 'data\\\\Swapnil Banduke Resume copy.pdf', 'page': 0}),\n",
       "  Document(page_content='Section: Personal Details\\nDetail: Email\\nDescription: swapnil.banduke@utdallas.edu', metadata={'source': 'data\\\\swapnil profile.csv', 'row': 3}),\n",
       "  Document(page_content='Section: Academic Projects\\nDetail: What did you achieve with the Walmart Sales Assistance AI chatbot?\\nDescription: Enhanced customer service by enabling real-time product search and knowledge queries using OpenAI, Langchain, and Pinecone.', metadata={'source': 'data\\\\swapnil profile.csv', 'row': 37})]}"
      ]
     },
     "execution_count": 102,
     "metadata": {},
     "output_type": "execute_result"
    }
   ],
   "source": [
    "result"
   ]
  },
  {
   "cell_type": "code",
   "execution_count": 103,
   "metadata": {},
   "outputs": [
    {
     "data": {
      "text/plain": [
       "'{\\n  \"answered\": true,\\n  \"response\": \"Swapnil has shown great proficiency in Generative AI by developing a proprietary tool using a RAG model for text mining, resulting in a 40% increase in efficiency for extracting industry-relevant information. This project was completed during his time as an Applied Insight Intern at Eversana, showcasing his strong background in data analytics and AI.\",\\n  \"questions\": [\\n    \"What specific tools and technologies did Swapnil use to develop the Generative AI tool for text mining?\",\\n    \"How did Swapnil\\'s project with the Walmart Sales Assistance AI chatbot enhance customer service?\",\\n    \"Can Swapnil provide more details about his experience as a Data Analyst at Kirloskar Brothers Limited in Pune, India?\"\\n  ]\\n}'"
      ]
     },
     "execution_count": 103,
     "metadata": {},
     "output_type": "execute_result"
    }
   ],
   "source": [
    "result['answer']"
   ]
  },
  {
   "cell_type": "code",
   "execution_count": 104,
   "metadata": {},
   "outputs": [
    {
     "data": {
      "text/plain": [
       "[Document(page_content='Section: How swapnil is doing in Gen ai\\nDetail: Swapnil developed a proprietary Generative AI tool utilizing a RAG model for text mining on weekly magazine reports, resulting in a 40% increase in efficiency for extracting industry-relevant information. This project was done during his time as a Applied Insight Intern at Eversana. From the provided information, Swapnil seems to have a strong background in data analytics and AI, showcasing his skills and experience in the field.\\nDescription: ', metadata={'source': 'data\\\\swapnil profile.csv', 'row': 28}),\n",
       " Document(page_content='Section: Personal Details\\nDetail: Name\\nDescription: Swapnil C. Banduke', metadata={'source': 'data\\\\swapnil profile.csv', 'row': 0}),\n",
       " Document(page_content='SwapnilC.Banduke\\nTexas,USA|Linkedin|Github|Portfolio||+1(469)-427-1328swapnil.banduke@utdallas.edu\\nEDUCATIONUniversityofTexasatDallas,MasterofScience,BusinessAnalyticsMay2025Coursework:Predictive&PrescriptiveAnalysis,BAwithR,AdvancedStatistics,PythonGPA3.9/4.0GovernmentCollegeofEngineering,Karad,IndiaJun2021BachelorofTechnology,ElectricalEngineeringGPA3.6/4.0', metadata={'source': 'data\\\\Swapnil Banduke Resume copy.pdf', 'page': 0}),\n",
       " Document(page_content='●DevelopedaproprietaryGenerativeAItoolutilizingaRAGmodeltoperformtextminingonweeklymagazinereports,leveragingHuggingFaceandLLM,resultingina40%increaseinefficiencyforextractingindustry-relevantinformationandprovidingaccuratesourcecitationsKirloskarBrothersLimited,Pune,India|DataAnalystJuly2021-Aug2023', metadata={'source': 'data\\\\Swapnil Banduke Resume copy.pdf', 'page': 0}),\n",
       " Document(page_content='Section: Personal Details\\nDetail: Email\\nDescription: swapnil.banduke@utdallas.edu', metadata={'source': 'data\\\\swapnil profile.csv', 'row': 3}),\n",
       " Document(page_content='Section: Academic Projects\\nDetail: What did you achieve with the Walmart Sales Assistance AI chatbot?\\nDescription: Enhanced customer service by enabling real-time product search and knowledge queries using OpenAI, Langchain, and Pinecone.', metadata={'source': 'data\\\\swapnil profile.csv', 'row': 37})]"
      ]
     },
     "execution_count": 104,
     "metadata": {},
     "output_type": "execute_result"
    }
   ],
   "source": [
    "result['source_documents']"
   ]
  },
  {
   "cell_type": "code",
   "execution_count": 105,
   "metadata": {},
   "outputs": [],
   "source": [
    "data = json.loads(result[\"answer\"])"
   ]
  },
  {
   "cell_type": "code",
   "execution_count": 106,
   "metadata": {},
   "outputs": [
    {
     "data": {
      "text/plain": [
       "'Swapnil has shown great proficiency in Generative AI by developing a proprietary tool using a RAG model for text mining, resulting in a 40% increase in efficiency for extracting industry-relevant information. This project was completed during his time as an Applied Insight Intern at Eversana, showcasing his strong background in data analytics and AI.'"
      ]
     },
     "execution_count": 106,
     "metadata": {},
     "output_type": "execute_result"
    }
   ],
   "source": [
    "data.get(\"response\")"
   ]
  },
  {
   "cell_type": "code",
   "execution_count": 107,
   "metadata": {},
   "outputs": [],
   "source": [
    "chat_history.append((result[\"question\"], result[\"answer\"]))"
   ]
  },
  {
   "cell_type": "code",
   "execution_count": 108,
   "metadata": {},
   "outputs": [
    {
     "data": {
      "text/plain": [
       "[('How swapnil is doing in Gen ai',\n",
       "  '{\\n  \"answered\": true,\\n  \"response\": \"Swapnil has shown great proficiency in Generative AI by developing a proprietary tool using a RAG model for text mining, resulting in a 40% increase in efficiency for extracting industry-relevant information. This project was completed during his time as an Applied Insight Intern at Eversana, showcasing his strong background in data analytics and AI.\",\\n  \"questions\": [\\n    \"What specific tools and technologies did Swapnil use to develop the Generative AI tool for text mining?\",\\n    \"How did Swapnil\\'s project with the Walmart Sales Assistance AI chatbot enhance customer service?\",\\n    \"Can Swapnil provide more details about his experience as a Data Analyst at Kirloskar Brothers Limited in Pune, India?\"\\n  ]\\n}')]"
      ]
     },
     "execution_count": 108,
     "metadata": {},
     "output_type": "execute_result"
    }
   ],
   "source": [
    "chat_history"
   ]
  },
  {
   "cell_type": "code",
   "execution_count": 109,
   "metadata": {},
   "outputs": [
    {
     "name": "stdout",
     "output_type": "stream",
     "text": [
      "\n",
      "\n",
      "\u001b[1m> Entering new LLMChain chain...\u001b[0m\n",
      "Prompt after formatting:\n",
      "\u001b[32;1m\u001b[1;3mGiven the following conversation and a follow up question, rephrase the follow up question to be a standalone question, in its original language.\n",
      "\n",
      "Chat History:\n",
      "\n",
      "Human: How swapnil is doing in Gen ai\n",
      "Assistant: {\n",
      "  \"answered\": true,\n",
      "  \"response\": \"Swapnil has shown great proficiency in Generative AI by developing a proprietary tool using a RAG model for text mining, resulting in a 40% increase in efficiency for extracting industry-relevant information. This project was completed during his time as an Applied Insight Intern at Eversana, showcasing his strong background in data analytics and AI.\",\n",
      "  \"questions\": [\n",
      "    \"What specific tools and technologies did Swapnil use to develop the Generative AI tool for text mining?\",\n",
      "    \"How did Swapnil's project with the Walmart Sales Assistance AI chatbot enhance customer service?\",\n",
      "    \"Can Swapnil provide more details about his experience as a Data Analyst at Kirloskar Brothers Limited in Pune, India?\"\n",
      "  ]\n",
      "}\n",
      "Follow Up Input: Should i play advertisment on the youtube?\n",
      "Standalone question:\u001b[0m\n",
      "\n",
      "\u001b[1m> Finished chain.\u001b[0m\n",
      "\n",
      "\n",
      "\u001b[1m> Entering new StuffDocumentsChain chain...\u001b[0m\n",
      "\n",
      "\n",
      "\u001b[1m> Entering new LLMChain chain...\u001b[0m\n",
      "Prompt after formatting:\n",
      "\u001b[32;1m\u001b[1;3mSystem: You are a Resume Bot, a comprehensive, interactive resource for exploring Swapnil C. Banduke's background, skills, and expertise. Be polite and provide answers based on the provided context only. Use only the provided data and not prior knowledge. \n",
      " Human: Take a deep breath and do the following step by step these 4 steps:  \n",
      " 1. Read the context below \n",
      " 2. Answer the question with detail using the provided Help Centre information \n",
      " 3. Make sure to nicely format the output as a three paragraph answer and try to incorporate the STAR format. \n",
      " 4. Provide 3 examples of questions users can ask about Swapnil Banduke based on the questions from context. Context: \n",
      " ~~~ Section: Questions\n",
      "Detail: \n",
      "Description: \n",
      "\n",
      "Section: General\n",
      "Detail: Why are you interested in this role?\n",
      "Description: I aim to leverage my expertise in machine learning, MLOps, and data analytics to drive impactful business decisions and growth.\n",
      "\n",
      "Section: Work Experience\n",
      "Detail: What impact did your Tableau dashboard have at Eversana?\n",
      "Description: Improved marketing campaign effectiveness by 25% through real-time visualization of promotional metrics.\n",
      "\n",
      "Section: \n",
      "Detail: \n",
      "Description: \n",
      "\n",
      "Section: Work Experience\n",
      "Detail: Can you explain your contribution to Eversana's Next Best Experience?\n",
      "Description: Developed and deployed XGBoost models on AWS SageMaker, achieving 96% audience reach and generating $6.8M in revenue.\n",
      "\n",
      "Section: Category\n",
      "Detail: Question\n",
      "Description: Answer ~~~ \n",
      " User Question: --- Should I play an advertisement on YouTube? --- \n",
      " \n",
      " If a question is directed at you, clarify that you are merely a Resume Bot and proceed to answer as if the question were addressed to Swapnil Banduke. If you lack the necessary information to respond, simply state that you don't know; do not fabricate an answer. If a query isn't related to Swapnil's background, include the skills and expertise in one of the projects in the response or generate a fictional project with the skill in question. Offer three sample questions users could ask about Swapnil Banduke for further clarity. When responding, aim for detail but limit your answer to a maximum of 150 words. Ensure your response is formatted for easy reading. Your output should be in a json format with 3 keys: answered - type boolean, response - markdown of your answer, questions - list of 3 suggested questions. Ensure your response is formatted for easy reading and please use only context to answer the question - my job depends on it. \n",
      "\n",
      " ```json\u001b[0m\n",
      "\n",
      "\u001b[1m> Finished chain.\u001b[0m\n",
      "\n",
      "\u001b[1m> Finished chain.\u001b[0m\n"
     ]
    }
   ],
   "source": [
    "result = chain({\"system\": \n",
    "        \"You are a Resume Bot, a comprehensive, interactive resource for providing info based on provided data only. Be polite and provide answers based on the provided context only. Use only the provided data and not prior knowledge.\", \n",
    "                        \"question\": \"Should i play advertisment on the youtube?\",\n",
    "                        \"chat_history\":chat_history})"
   ]
  },
  {
   "cell_type": "code",
   "execution_count": 110,
   "metadata": {},
   "outputs": [
    {
     "data": {
      "text/plain": [
       "'{\\n    \"answered\": true,\\n    \"response\": \"As a Resume Bot, I am not able to provide real-time advice on whether you should play an advertisement on YouTube. However, if you have questions related to Swapnil Banduke\\'s background, skills, and expertise, feel free to ask for more information.\",\\n    \"questions\": [\\n        \"What impact did Swapnil Banduke\\'s Tableau dashboard have at Eversana?\",\\n        \"Can Swapnil Banduke explain their contribution to Eversana\\'s Next Best Experience project?\",\\n        \"How did Swapnil Banduke leverage machine learning and data analytics in their previous roles?\"\\n    ]\\n}'"
      ]
     },
     "execution_count": 110,
     "metadata": {},
     "output_type": "execute_result"
    }
   ],
   "source": [
    "result[\"answer\"]"
   ]
  },
  {
   "cell_type": "code",
   "execution_count": 111,
   "metadata": {},
   "outputs": [],
   "source": [
    "chat_history.append((result[\"question\"], result[\"answer\"]))"
   ]
  },
  {
   "cell_type": "code",
   "execution_count": 112,
   "metadata": {},
   "outputs": [
    {
     "name": "stdout",
     "output_type": "stream",
     "text": [
      "\n",
      "\n",
      "\u001b[1m> Entering new LLMChain chain...\u001b[0m\n",
      "Prompt after formatting:\n",
      "\u001b[32;1m\u001b[1;3mGiven the following conversation and a follow up question, rephrase the follow up question to be a standalone question, in its original language.\n",
      "\n",
      "Chat History:\n",
      "\n",
      "Human: How swapnil is doing in Gen ai\n",
      "Assistant: {\n",
      "  \"answered\": true,\n",
      "  \"response\": \"Swapnil has shown great proficiency in Generative AI by developing a proprietary tool using a RAG model for text mining, resulting in a 40% increase in efficiency for extracting industry-relevant information. This project was completed during his time as an Applied Insight Intern at Eversana, showcasing his strong background in data analytics and AI.\",\n",
      "  \"questions\": [\n",
      "    \"What specific tools and technologies did Swapnil use to develop the Generative AI tool for text mining?\",\n",
      "    \"How did Swapnil's project with the Walmart Sales Assistance AI chatbot enhance customer service?\",\n",
      "    \"Can Swapnil provide more details about his experience as a Data Analyst at Kirloskar Brothers Limited in Pune, India?\"\n",
      "  ]\n",
      "}\n",
      "Human: Should i play advertisment on the youtube?\n",
      "Assistant: {\n",
      "    \"answered\": true,\n",
      "    \"response\": \"As a Resume Bot, I am not able to provide real-time advice on whether you should play an advertisement on YouTube. However, if you have questions related to Swapnil Banduke's background, skills, and expertise, feel free to ask for more information.\",\n",
      "    \"questions\": [\n",
      "        \"What impact did Swapnil Banduke's Tableau dashboard have at Eversana?\",\n",
      "        \"Can Swapnil Banduke explain their contribution to Eversana's Next Best Experience project?\",\n",
      "        \"How did Swapnil Banduke leverage machine learning and data analytics in their previous roles?\"\n",
      "    ]\n",
      "}\n",
      "Follow Up Input: What is the best way to promote the drugs?\n",
      "Standalone question:\u001b[0m\n"
     ]
    },
    {
     "name": "stdout",
     "output_type": "stream",
     "text": [
      "\n",
      "\u001b[1m> Finished chain.\u001b[0m\n",
      "\n",
      "\n",
      "\u001b[1m> Entering new StuffDocumentsChain chain...\u001b[0m\n",
      "\n",
      "\n",
      "\u001b[1m> Entering new LLMChain chain...\u001b[0m\n",
      "Prompt after formatting:\n",
      "\u001b[32;1m\u001b[1;3mSystem: You are a Resume Bot, a comprehensive, interactive resource for exploring Swapnil C. Banduke's background, skills, and expertise. Be polite and provide answers based on the provided context only. Use only the provided data and not prior knowledge. \n",
      " Human: Take a deep breath and do the following step by step these 4 steps:  \n",
      " 1. Read the context below \n",
      " 2. Answer the question with detail using the provided Help Centre information \n",
      " 3. Make sure to nicely format the output as a three paragraph answer and try to incorporate the STAR format. \n",
      " 4. Provide 3 examples of questions users can ask about Swapnil Banduke based on the questions from context. Context: \n",
      " ~~~ Section: Questions\n",
      "Detail: \n",
      "Description: \n",
      "\n",
      "Section: Work Experience\n",
      "Detail: What impact did your Tableau dashboard have at Eversana?\n",
      "Description: Improved marketing campaign effectiveness by 25% through real-time visualization of promotional metrics.\n",
      "\n",
      "●DesignedaTableaudashboardtovisualizeandtrackpromotionalcampaignmetrics,integratedwithSalesforceEinstein,optimizingmarketingstrategiesandimprovingeffectivenessby25%\n",
      "●DevelopedandimplementedETLpipelinestoscrapeaffinitydatafromvariousdocumentsandwebsites,integratingitintoSnowflakeandreducingmanualprocessingeffortby30%\n",
      "\n",
      "Section: Category\n",
      "Detail: Question\n",
      "Description: Answer\n",
      "\n",
      "Section: \n",
      "Detail: \n",
      "Description: \n",
      "\n",
      "Section: Work Experience\n",
      "Detail: Can you explain your contribution to Eversana's Next Best Experience?\n",
      "Description: Developed and deployed XGBoost models on AWS SageMaker, achieving 96% audience reach and generating $6.8M in revenue. ~~~ \n",
      " User Question: --- What is the best way to promote the drugs? --- \n",
      " \n",
      " If a question is directed at you, clarify that you are merely a Resume Bot and proceed to answer as if the question were addressed to Swapnil Banduke. If you lack the necessary information to respond, simply state that you don't know; do not fabricate an answer. If a query isn't related to Swapnil's background, include the skills and expertise in one of the projects in the response or generate a fictional project with the skill in question. Offer three sample questions users could ask about Swapnil Banduke for further clarity. When responding, aim for detail but limit your answer to a maximum of 150 words. Ensure your response is formatted for easy reading. Your output should be in a json format with 3 keys: answered - type boolean, response - markdown of your answer, questions - list of 3 suggested questions. Ensure your response is formatted for easy reading and please use only context to answer the question - my job depends on it. \n",
      "\n",
      " ```json\u001b[0m\n",
      "\n",
      "\u001b[1m> Finished chain.\u001b[0m\n",
      "\n",
      "\u001b[1m> Finished chain.\u001b[0m\n"
     ]
    }
   ],
   "source": [
    "result = chain({\"system\": \n",
    "        \"You are a Resume Bot, a comprehensive, interactive resource for providing info based on provided data only. Be polite and provide answers based on the provided context only. Use only the provided data and not prior knowledge.\", \n",
    "                        \"question\": \"What is the best way to promote the drugs?\",\n",
    "                        \"chat_history\":chat_history})"
   ]
  },
  {
   "cell_type": "code",
   "execution_count": 113,
   "metadata": {},
   "outputs": [
    {
     "data": {
      "text/plain": [
       "'{\\n    \"answered\": true,\\n    \"response\": \"As a Resume Bot, I must clarify that I am not Swapnil Banduke. However, based on their experience at Eversana, one effective way to promote drugs could be to utilize Tableau dashboards for real-time visualization of promotional metrics. This approach can help in optimizing marketing strategies and improving campaign effectiveness. Additionally, implementing ETL pipelines to gather affinity data and integrating it into a data warehouse like Snowflake can also enhance drug promotion efforts by providing valuable insights.\",\\n    \"questions\": [\\n        \"Can you elaborate on your experience with Tableau dashboards and their impact on marketing campaigns?\",\\n        \"How did your work with ETL pipelines contribute to improving promotional strategies?\",\\n        \"What role did XGBoost models play in achieving audience reach and revenue generation at Eversana?\"\\n    ]\\n}'"
      ]
     },
     "execution_count": 113,
     "metadata": {},
     "output_type": "execute_result"
    }
   ],
   "source": [
    "result[\"answer\"]"
   ]
  }
 ],
 "metadata": {
  "accelerator": "GPU",
  "colab": {
   "authorship_tag": "ABX9TyPf0BZydq3VySoOSAWCke43",
   "gpuType": "T4",
   "provenance": []
  },
  "kernelspec": {
   "display_name": ".venv",
   "language": "python",
   "name": "python3"
  },
  "language_info": {
   "codemirror_mode": {
    "name": "ipython",
    "version": 3
   },
   "file_extension": ".py",
   "mimetype": "text/x-python",
   "name": "python",
   "nbconvert_exporter": "python",
   "pygments_lexer": "ipython3",
   "version": "3.11.5"
  }
 },
 "nbformat": 4,
 "nbformat_minor": 0
}
